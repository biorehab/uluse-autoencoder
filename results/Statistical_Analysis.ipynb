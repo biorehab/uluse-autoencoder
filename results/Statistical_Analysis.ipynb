{
 "cells": [
  {
   "cell_type": "code",
   "execution_count": 1,
   "metadata": {
    "executionInfo": {
     "elapsed": 1030,
     "status": "ok",
     "timestamp": 1751512729695,
     "user": {
      "displayName": "Parvathy N am22d003",
      "userId": "06924251845540377369"
     },
     "user_tz": -330
    },
    "id": "GPMRkpHKHvqU"
   },
   "outputs": [],
   "source": [
    "import pandas as pd\n",
    "import matplotlib.pyplot as plt\n",
    "import numpy as np\n",
    "from scipy.stats import f_oneway\n",
    "from itertools import combinations\n",
    "from scipy.stats import ttest_ind\n",
    "import statsmodels.stats.multitest as smm\n",
    "from statsmodels.stats.multicomp import pairwise_tukeyhsd"
   ]
  },
  {
   "cell_type": "code",
   "execution_count": 2,
   "metadata": {
    "executionInfo": {
     "elapsed": 20,
     "status": "ok",
     "timestamp": 1751512729716,
     "user": {
      "displayName": "Parvathy N am22d003",
      "userId": "06924251845540377369"
     },
     "user_tz": -330
    },
    "id": "qEz50x96H65I"
   },
   "outputs": [],
   "source": [
    "df = pd.read_csv('comparison_cv.csv')"
   ]
  },
  {
   "cell_type": "code",
   "execution_count": 3,
   "metadata": {
    "executionInfo": {
     "elapsed": 3,
     "status": "ok",
     "timestamp": 1751512729734,
     "user": {
      "displayName": "Parvathy N am22d003",
      "userId": "06924251845540377369"
     },
     "user_tz": -330
    },
    "id": "00pjiNNUMMAx"
   },
   "outputs": [],
   "source": [
    "right = df[df['Limb'] == 'Right']\n",
    "left = df[df['Limb'] == 'Left']\n",
    "aff = df[df['Limb'] == 'Affected']\n",
    "unaff = df[df['Limb'] == 'Unaffected']\n"
   ]
  },
  {
   "cell_type": "code",
   "execution_count": 4,
   "metadata": {
    "executionInfo": {
     "elapsed": 77,
     "status": "ok",
     "timestamp": 1751512729813,
     "user": {
      "displayName": "Parvathy N am22d003",
      "userId": "06924251845540377369"
     },
     "user_tz": -330
    },
    "id": "DuYjOm2kS2py"
   },
   "outputs": [],
   "source": [
    "\n",
    "def pair_tukeyhsd(df_limb, filename):\n",
    "  model_names = ['RF_inter', 'GMAC_L', 'GMAC_G', 'Scheme1_L', 'Scheme1_G', 'Scheme1b_L', 'Scheme1b_G',\n",
    "               'Scheme2_L', 'Scheme2_G', 'Scheme3a_L', 'Scheme3a_G', 'Scheme3b_L', 'Scheme3b_G']\n",
    "  data = []\n",
    "  for model in model_names:\n",
    "      data.extend(zip(df_limb[model], [model] * len(df_limb[model])))\n",
    "  df = pd.DataFrame(data, columns=['YI', 'Model'])\n",
    "  tukey_results = pairwise_tukeyhsd(df['YI'], df['Model'], alpha=0.05)\n",
    "  #print(tukey_results)\n",
    "  tukey_df = pd.DataFrame({\n",
    "              'group1': tukey_results.groupsunique[tukey_results._multicomp.pairindices[0]],\n",
    "              'group2': tukey_results.groupsunique[tukey_results._multicomp.pairindices[1]], \n",
    "              'meandiff': tukey_results.meandiffs,\n",
    "              'p-adj': tukey_results.pvalues,  \n",
    "              'lower': tukey_results.confint[:, 0],\n",
    "              'upper': tukey_results.confint[:, 1],\n",
    "              'reject': tukey_results.reject\n",
    "            })\n",
    "  #tukey_df = pd.DataFrame(data=tukey_results._results_table.data[1:], columns=tukey_results._results_table.data[0])\n",
    "  print(tukey_df)\n",
    "  latex_table = tukey_df.to_latex(index=False, float_format=\"%.7f\")\n",
    "  with open(filename, \"w\") as f:\n",
    "    f.write(latex_table)\n",
    "  return tukey_df\n"
   ]
  },
  {
   "cell_type": "code",
   "execution_count": 5,
   "metadata": {
    "colab": {
     "base_uri": "https://localhost:8080/"
    },
    "executionInfo": {
     "elapsed": 18,
     "status": "ok",
     "timestamp": 1751512729814,
     "user": {
      "displayName": "Parvathy N am22d003",
      "userId": "06924251845540377369"
     },
     "user_tz": -330
    },
    "id": "8pvDmqpGQqck",
    "outputId": "2abaf57c-b252-4a1f-d11c-6bc1bc5273fd"
   },
   "outputs": [
    {
     "name": "stdout",
     "output_type": "stream",
     "text": [
      "Right Limb (One-way ANOVA)\n"
     ]
    },
    {
     "data": {
      "text/plain": [
       "F_onewayResult(statistic=9.326965779805978, pvalue=1.9808997857478744e-12)"
      ]
     },
     "execution_count": 5,
     "metadata": {},
     "output_type": "execute_result"
    }
   ],
   "source": [
    "print(\"Right Limb (One-way ANOVA)\")\n",
    "f_oneway(right['RF_inter'], right['GMAC_L'], right['GMAC_G'], right['Scheme1_L'], right['Scheme1_G'], right['Scheme1b_L'], right['Scheme1b_G'], right['Scheme2_L'], right['Scheme2_G'], right['Scheme3a_L'], right['Scheme3a_G'], right['Scheme3b_L'], right['Scheme3b_G'])\n"
   ]
  },
  {
   "cell_type": "code",
   "execution_count": 6,
   "metadata": {
    "colab": {
     "base_uri": "https://localhost:8080/"
    },
    "executionInfo": {
     "elapsed": 2746,
     "status": "ok",
     "timestamp": 1751512732547,
     "user": {
      "displayName": "Parvathy N am22d003",
      "userId": "06924251845540377369"
     },
     "user_tz": -330
    },
    "id": "BkKP_s4laS6o",
    "outputId": "b3065835-3f3d-44f6-cc19-64e3190cf85c"
   },
   "outputs": [
    {
     "name": "stdout",
     "output_type": "stream",
     "text": [
      "Right Limb (Post-hoc Tukey)\n",
      "        group1      group2  meandiff     p-adj     lower     upper  reject\n",
      "0       GMAC_G      GMAC_L    -0.056  0.999794 -0.285683  0.173683   False\n",
      "1       GMAC_G    RF_inter     0.009  1.000000 -0.220683  0.238683   False\n",
      "2       GMAC_G   Scheme1_G    -0.034  0.999999 -0.263683  0.195683   False\n",
      "3       GMAC_G   Scheme1_L    -0.034  0.999999 -0.263683  0.195683   False\n",
      "4       GMAC_G  Scheme1b_G     0.028  1.000000 -0.201683  0.257683   False\n",
      "..         ...         ...       ...       ...       ...       ...     ...\n",
      "73  Scheme3a_G  Scheme3b_G    -0.103  0.949460 -0.332683  0.126683   False\n",
      "74  Scheme3a_G  Scheme3b_L     0.008  1.000000 -0.221683  0.237683   False\n",
      "75  Scheme3a_L  Scheme3b_G    -0.206  0.126708 -0.435683  0.023683   False\n",
      "76  Scheme3a_L  Scheme3b_L    -0.095  0.972481 -0.324683  0.134683   False\n",
      "77  Scheme3b_G  Scheme3b_L     0.111  0.915181 -0.118683  0.340683   False\n",
      "\n",
      "[78 rows x 7 columns]\n"
     ]
    }
   ],
   "source": [
    "print(\"Right Limb (Post-hoc Tukey)\")\n",
    "right_tukey = pair_tukeyhsd(right, 'tukey_right.txt')"
   ]
  },
  {
   "cell_type": "code",
   "execution_count": 7,
   "metadata": {
    "colab": {
     "base_uri": "https://localhost:8080/"
    },
    "executionInfo": {
     "elapsed": 3,
     "status": "ok",
     "timestamp": 1751512732548,
     "user": {
      "displayName": "Parvathy N am22d003",
      "userId": "06924251845540377369"
     },
     "user_tz": -330
    },
    "id": "DpI_4XLpQtho",
    "outputId": "fd9cd413-90e9-46b2-c686-318bfb25acda"
   },
   "outputs": [
    {
     "name": "stdout",
     "output_type": "stream",
     "text": [
      "Left limb (One-way ANOVA)\n"
     ]
    },
    {
     "data": {
      "text/plain": [
       "F_onewayResult(statistic=7.770534897376724, pvalue=1.801202593151408e-10)"
      ]
     },
     "execution_count": 7,
     "metadata": {},
     "output_type": "execute_result"
    }
   ],
   "source": [
    "print(\"Left limb (One-way ANOVA)\")\n",
    "f_oneway(left['RF_inter'], left['GMAC_L'], left['GMAC_G'], left['Scheme1_L'], left['Scheme1_G'], left['Scheme1b_L'], left['Scheme1b_G'],left['Scheme2_L'], left['Scheme2_G'], left['Scheme3a_L'], left['Scheme3a_G'], left['Scheme3b_L'], left['Scheme3b_G'])\n"
   ]
  },
  {
   "cell_type": "code",
   "execution_count": 8,
   "metadata": {
    "colab": {
     "base_uri": "https://localhost:8080/"
    },
    "executionInfo": {
     "elapsed": 1493,
     "status": "ok",
     "timestamp": 1751512734042,
     "user": {
      "displayName": "Parvathy N am22d003",
      "userId": "06924251845540377369"
     },
     "user_tz": -330
    },
    "id": "sTaCtgLk7CX2",
    "outputId": "8674bcbb-aa56-43e7-a348-bf386004ec7c"
   },
   "outputs": [
    {
     "name": "stdout",
     "output_type": "stream",
     "text": [
      "Left Limb (Post-hoc Tukey)\n",
      "        group1      group2  meandiff     p-adj     lower     upper  reject\n",
      "0       GMAC_G      GMAC_L     0.065  0.997500 -0.142275  0.272275   False\n",
      "1       GMAC_G    RF_inter     0.001  1.000000 -0.206275  0.208275   False\n",
      "2       GMAC_G   Scheme1_G     0.004  1.000000 -0.203275  0.211275   False\n",
      "3       GMAC_G   Scheme1_L     0.006  1.000000 -0.201275  0.213275   False\n",
      "4       GMAC_G  Scheme1b_G     0.038  0.999990 -0.169275  0.245275   False\n",
      "..         ...         ...       ...       ...       ...       ...     ...\n",
      "73  Scheme3a_G  Scheme3b_G     0.005  1.000000 -0.202275  0.212275   False\n",
      "74  Scheme3a_G  Scheme3b_L    -0.067  0.996682 -0.274275  0.140275   False\n",
      "75  Scheme3a_L  Scheme3b_G    -0.128  0.671456 -0.335275  0.079275   False\n",
      "76  Scheme3a_L  Scheme3b_L    -0.200  0.069746 -0.407275  0.007275   False\n",
      "77  Scheme3b_G  Scheme3b_L    -0.072  0.993620 -0.279275  0.135275   False\n",
      "\n",
      "[78 rows x 7 columns]\n"
     ]
    }
   ],
   "source": [
    "print(\"Left Limb (Post-hoc Tukey)\")\n",
    "left_tukey = pair_tukeyhsd(left, 'tukey_left.txt')"
   ]
  },
  {
   "cell_type": "code",
   "execution_count": 9,
   "metadata": {
    "colab": {
     "base_uri": "https://localhost:8080/"
    },
    "executionInfo": {
     "elapsed": 14,
     "status": "ok",
     "timestamp": 1751512734043,
     "user": {
      "displayName": "Parvathy N am22d003",
      "userId": "06924251845540377369"
     },
     "user_tz": -330
    },
    "id": "YWF7c822Qw2A",
    "outputId": "36f6ba10-4b6f-47b6-d385-7fa9747a091b"
   },
   "outputs": [
    {
     "name": "stdout",
     "output_type": "stream",
     "text": [
      "Affected limb (One-way ANOVA)\n"
     ]
    },
    {
     "data": {
      "text/plain": [
       "F_onewayResult(statistic=1.060137811520053, pvalue=0.4116242046067608)"
      ]
     },
     "execution_count": 9,
     "metadata": {},
     "output_type": "execute_result"
    }
   ],
   "source": [
    "print(\"Affected limb (One-way ANOVA)\")\n",
    "f_oneway(aff['RF_inter'], aff['GMAC_L'], aff['GMAC_G'], aff['Scheme1_L'], aff['Scheme1_G'], aff['Scheme1b_L'], aff['Scheme1b_G'], aff['Scheme2_L'], aff['Scheme2_G'], aff['Scheme3a_L'], aff['Scheme3a_G'], aff['Scheme3b_L'], aff['Scheme3b_G'])\n"
   ]
  },
  {
   "cell_type": "code",
   "execution_count": 10,
   "metadata": {
    "colab": {
     "base_uri": "https://localhost:8080/"
    },
    "executionInfo": {
     "elapsed": 8,
     "status": "ok",
     "timestamp": 1751512734044,
     "user": {
      "displayName": "Parvathy N am22d003",
      "userId": "06924251845540377369"
     },
     "user_tz": -330
    },
    "id": "KvNs_RqVQzgn",
    "outputId": "0ebec14b-f656-476e-fe7d-03e8b5573f1e"
   },
   "outputs": [
    {
     "name": "stdout",
     "output_type": "stream",
     "text": [
      "Unaffected limb (One-way ANOVA)\n"
     ]
    },
    {
     "data": {
      "text/plain": [
       "F_onewayResult(statistic=1.5797949345551692, pvalue=0.12688034636263879)"
      ]
     },
     "execution_count": 10,
     "metadata": {},
     "output_type": "execute_result"
    }
   ],
   "source": [
    "print(\"Unaffected limb (One-way ANOVA)\")\n",
    "f_oneway(unaff['RF_inter'], unaff['GMAC_L'], unaff['GMAC_G'], unaff['Scheme1_L'], unaff['Scheme1_G'], unaff['Scheme1b_L'], unaff['Scheme1b_G'], unaff['Scheme2_L'], unaff['Scheme2_G'], unaff['Scheme3a_L'], unaff['Scheme3a_G'], unaff['Scheme3b_L'], unaff['Scheme3b_G'])"
   ]
  },
  {
   "cell_type": "code",
   "execution_count": 16,
   "metadata": {},
   "outputs": [
    {
     "data": {
      "text/plain": [
       "(78, 78)"
      ]
     },
     "execution_count": 16,
     "metadata": {},
     "output_type": "execute_result"
    }
   ],
   "source": [
    "len(right_tukey), len(left_tukey)"
   ]
  },
  {
   "cell_type": "code",
   "execution_count": null,
   "metadata": {},
   "outputs": [],
   "source": [
    "combined_tukey = pd.merge(left_tukey, right_tukey, on=['group1', 'group2'], suffixes=('_left', '_right'))\n",
    "combined_tukey.drop(columns=['reject_left', 'reject_right'], inplace=True)\n",
    "\n"
   ]
  },
  {
   "cell_type": "code",
   "execution_count": null,
   "metadata": {},
   "outputs": [],
   "source": [
    "latex_table = combined_tukey.to_latex(index=False, float_format=\"%.7f\")\n",
    "with open('tukey_combined.txt', \"w\") as f:\n",
    "    f.write(latex_table)"
   ]
  },
  {
   "cell_type": "code",
   "execution_count": 28,
   "metadata": {},
   "outputs": [
    {
     "name": "stdout",
     "output_type": "stream",
     "text": [
      "        group1      group2  meandiff_left  p-adj_left  lower_left  upper_left  \\\n",
      "62  Scheme1b_L  Scheme3b_L         -0.236    0.011605   -0.443275   -0.028725   \n",
      "\n",
      "    meandiff_right  p-adj_right  lower_right  upper_right  \n",
      "62          -0.235     0.039799    -0.464683    -0.005317  \n"
     ]
    }
   ],
   "source": [
    "print(combined_tukey[(combined_tukey['group1']=='Scheme1b_L') & (combined_tukey['group2']=='Scheme3b_L')])"
   ]
  }
 ],
 "metadata": {
  "colab": {
   "authorship_tag": "ABX9TyOcPfWAs53Ylf/vVXa/pxhn",
   "mount_file_id": "1A_WjaSJ2Fb69oOIc-kx7xf99u1xrmbKx",
   "provenance": [
    {
     "file_id": "1A_WjaSJ2Fb69oOIc-kx7xf99u1xrmbKx",
     "timestamp": 1751512380697
    }
   ]
  },
  "kernelspec": {
   "display_name": "tf210_env",
   "language": "python",
   "name": "python3"
  },
  "language_info": {
   "codemirror_mode": {
    "name": "ipython",
    "version": 3
   },
   "file_extension": ".py",
   "mimetype": "text/x-python",
   "name": "python",
   "nbconvert_exporter": "python",
   "pygments_lexer": "ipython3",
   "version": "3.8.15"
  }
 },
 "nbformat": 4,
 "nbformat_minor": 0
}
